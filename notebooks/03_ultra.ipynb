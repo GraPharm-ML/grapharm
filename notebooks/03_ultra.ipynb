{
 "cells": [
  {
   "cell_type": "markdown",
   "metadata": {},
   "source": [
    "# Analyzing results from ULTRA prediction"
   ]
  },
  {
   "cell_type": "markdown",
   "metadata": {},
   "source": [
    "## Load data"
   ]
  },
  {
   "cell_type": "code",
   "execution_count": 56,
   "metadata": {},
   "outputs": [],
   "source": [
    "import warnings\n",
    "warnings.filterwarnings(\"ignore\")\n",
    "\n",
    "import pandas as pd\n",
    "\n",
    "datadir = \"../data\"\n",
    "dataset = \"hetionet\"\n",
    "outdir = \"../outputs\"\n",
    "res_name = \"ultra_50g-Hetionet.csv\"\n",
    "savename = \"new_links_v0.csv\"\n",
    "\n",
    "train_df = pd.read_csv(f\"{datadir}/{dataset}/train.txt\", sep=\"\\t\", names=[\"source\", \"metaedge\", \"target\"])\n",
    "val_df = pd.read_csv(f\"{datadir}/{dataset}/valid.txt\", sep=\"\\t\", names=[\"source\", \"metaedge\", \"target\"])\n",
    "test_df = pd.read_csv(f\"{datadir}/{dataset}/test.txt\", sep=\"\\t\", names=[\"source\", \"metaedge\", \"target\"])\n",
    "\n",
    "pred_df = pd.read_csv(f\"{outdir}/{res_name}\")"
   ]
  },
  {
   "cell_type": "code",
   "execution_count": 50,
   "metadata": {},
   "outputs": [],
   "source": [
    "def print_data_stats(df):\n",
    "    print(\"Edge number: {}\".format(len(df)))\n",
    "    nodes = list(set(df[\"source\"].tolist() + df[\"target\"].to_list()))\n",
    "    df[\"source_type\"] = df[\"source\"].str.split(\"::\", expand=True)[0]\n",
    "    df[\"target_type\"] = df[\"target\"].str.split(\"::\", expand=True)[0]\n",
    "    print(\"Node number: {}\".format(len(nodes)))\n",
    "    node_types = list(set(df[\"source_type\"].tolist() + df[\"target_type\"].to_list()))\n",
    "    print(\"Node type number: {}\".format(len(node_types)))\n"
   ]
  },
  {
   "cell_type": "code",
   "execution_count": 51,
   "metadata": {},
   "outputs": [
    {
     "name": "stdout",
     "output_type": "stream",
     "text": [
      "TRAIN:\n",
      "Edge number: 2025177\n",
      "Node number: 44907\n",
      "Node type number: 11\n",
      "--------------------\n",
      "\n",
      "VALID:\n",
      "Edge number: 112510\n",
      "Node number: 29250\n",
      "Node type number: 11\n",
      "--------------------\n",
      "\n",
      "TEST:\n",
      "Edge number: 112510\n",
      "Node number: 29203\n",
      "Node type number: 11\n"
     ]
    }
   ],
   "source": [
    "print(\"TRAIN:\")\n",
    "print_data_stats(train_df.copy())\n",
    "print(\"-\"*20)\n",
    "print(\"\\nVALID:\")\n",
    "print_data_stats(val_df.copy())\n",
    "print(\"-\"*20)\n",
    "print(\"\\nTEST:\")\n",
    "print_data_stats(test_df.copy())"
   ]
  },
  {
   "cell_type": "markdown",
   "metadata": {},
   "source": [
    "## New links"
   ]
  },
  {
   "cell_type": "code",
   "execution_count": 54,
   "metadata": {},
   "outputs": [
    {
     "name": "stdout",
     "output_type": "stream",
     "text": [
      "Before removing duplications: 225020\n",
      "Number of links recontructed from ULTRA: 70737\n",
      "Overlap: 19641\n",
      "New links: 51096\n"
     ]
    }
   ],
   "source": [
    "new_links_q1 = pred_df[[\"source\", \"metaedge\", \"target_pred\"]]\n",
    "new_links_q1.rename({\"target_pred\": \"target\"}, axis=1, inplace=True)\n",
    "new_links_q2 = pred_df[[\"source_pred\", \"metaedge\", \"target\"]]\n",
    "new_links_q2.rename({\"source_pred\": \"source\"}, axis=1, inplace=True)\n",
    "new_links = pd.concat([new_links_q1, new_links_q2], ignore_index=True)\n",
    "print(\"Before removing duplications: {}\".format(len(new_links)))\n",
    "new_links.drop_duplicates(inplace=True, keep=\"first\")\n",
    "new_links.reset_index(inplace=True, drop=True)\n",
    "print(\"Number of links recontructed from ULTRA: {}\".format(len(new_links)))\n",
    "\n",
    "# Remove links from original graph\n",
    "new_links[\"key\"] = new_links[\"source\"] + \"-\" + new_links[\"metaedge\"] + \"-\" + new_links[\"target\"]\n",
    "df = test_df.copy()\n",
    "df[\"key\"] = df[\"source\"] + \"-\" + df[\"metaedge\"] + \"-\" + df[\"target\"]\n",
    "\n",
    "overlaps = list(set(new_links[\"key\"].tolist()) & set(df[\"key\"].tolist()))\n",
    "print(\"Overlap: {}\".format(len(overlaps)))\n",
    "new_links = new_links[~new_links[\"key\"].isin(overlaps)]\n",
    "print(\"New links: {}\".format(len(new_links)))"
   ]
  },
  {
   "cell_type": "code",
   "execution_count": 55,
   "metadata": {},
   "outputs": [],
   "source": [
    "new_links[[\"source\", \"metaedge\", \"target\"]].to_csv(f\"{datadir}/{savename}\", index=False)"
   ]
  },
  {
   "cell_type": "code",
   "execution_count": null,
   "metadata": {},
   "outputs": [],
   "source": []
  }
 ],
 "metadata": {
  "kernelspec": {
   "display_name": "grapharm",
   "language": "python",
   "name": "python3"
  },
  "language_info": {
   "codemirror_mode": {
    "name": "ipython",
    "version": 3
   },
   "file_extension": ".py",
   "mimetype": "text/x-python",
   "name": "python",
   "nbconvert_exporter": "python",
   "pygments_lexer": "ipython3",
   "version": "3.9.19"
  }
 },
 "nbformat": 4,
 "nbformat_minor": 2
}
