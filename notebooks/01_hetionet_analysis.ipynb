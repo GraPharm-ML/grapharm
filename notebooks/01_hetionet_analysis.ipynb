{
 "cells": [
  {
   "cell_type": "markdown",
   "metadata": {},
   "source": [
    "# Exploratory Data analysis\n",
    "\n",
    "This notebook is to:"
   ]
  },
  {
   "cell_type": "markdown",
   "metadata": {},
   "source": [
    "## Load data"
   ]
  },
  {
   "cell_type": "code",
   "execution_count": 20,
   "metadata": {},
   "outputs": [],
   "source": [
    "import os\n",
    "import pandas as pd\n",
    "import matplotlib.pyplot as plt\n",
    "\n",
    "datadir = \"../data\"\n",
    "\n",
    "node_df = pd.read_csv(f\"{datadir}/hetionet-v1.0-nodes.tsv\", sep=\"\\t\")\n",
    "edge_type_df = pd.read_csv(f\"{datadir}/metaedges.tsv\", sep=\"\\t\")\n",
    "edge_df = pd.read_csv(f\"{datadir}/hetionet-v1.0-edges.sif\", sep=\"\\t\")"
   ]
  },
  {
   "cell_type": "markdown",
   "metadata": {},
   "source": [
    "## Descriptive statistics"
   ]
  },
  {
   "cell_type": "markdown",
   "metadata": {},
   "source": [
    "### Nodes"
   ]
  },
  {
   "cell_type": "code",
   "execution_count": 19,
   "metadata": {},
   "outputs": [
    {
     "name": "stdout",
     "output_type": "stream",
     "text": [
      "Number of nodes: 47031\n",
      "Number of node types: 11\n",
      "----------------------------------------\n",
      "\tAnatomy\n",
      "\tBiological Process\n",
      "\tCellular Component\n",
      "\tCompound\n",
      "\tDisease\n",
      "\tGene\n",
      "\tMolecular Function\n",
      "\tPathway\n",
      "\tPharmacologic Class\n",
      "\tSide Effect\n",
      "\tSymptom\n",
      "----------------------------------------\n"
     ]
    }
   ],
   "source": [
    "print(f\"Number of nodes: {len(node_df)}\")\n",
    "print(\"Number of node types: {}\".format(len(node_df[\"kind\"].unique())))\n",
    "print(\"-\"*40)\n",
    "for node_type in node_df[\"kind\"].unique():\n",
    "    print(f\"\\t{node_type}\")\n",
    "print(\"-\"*40)"
   ]
  },
  {
   "cell_type": "code",
   "execution_count": 70,
   "metadata": {},
   "outputs": [],
   "source": [
    "# TODO: plot a bargraph of node type distribution here"
   ]
  },
  {
   "cell_type": "markdown",
   "metadata": {},
   "source": [
    "### Edges"
   ]
  },
  {
   "cell_type": "code",
   "execution_count": 31,
   "metadata": {},
   "outputs": [
    {
     "name": "stdout",
     "output_type": "stream",
     "text": [
      "Number of edges: 2250197\n",
      "Number of edge types: 24\n",
      "Number of grouped edge types: 16\n",
      "----------------------------------------\n",
      "\tdownregulates\n",
      "\texpresses\n",
      "\tupregulates\n",
      "\tbinds\n",
      "\tcauses\n",
      "\tpalliates\n",
      "\tresembles\n",
      "\ttreats\n",
      "\tassociates\n",
      "\tlocalizes\n",
      "\tpresents\n",
      "\tcovaries\n",
      "\tinteracts\n",
      "\tparticipates\n",
      "\tregulates\n",
      "\tincludes\n"
     ]
    }
   ],
   "source": [
    "edge_type_df[\"edge_type\"] = edge_type_df[\"metaedge\"].str.split(\" - \", expand=True)[1].fillna(\"regulates\")\n",
    "print(\"Number of edges: {}\".format(len(edge_df)))\n",
    "print(\"Number of edge types: {}\".format(len(edge_type_df)))\n",
    "print(\"Number of grouped edge types: {}\".format(len(edge_type_df.edge_type.unique())))\n",
    "print(\"-\"*40)\n",
    "for et in edge_type_df.edge_type.unique():\n",
    "    print(f\"\\t{et}\")"
   ]
  },
  {
   "cell_type": "code",
   "execution_count": 91,
   "metadata": {},
   "outputs": [],
   "source": [
    "def tsv2networkx(data, node_df, edge_type_df):\n",
    "\n",
    "    import networkx as nx\n",
    "\n",
    "    g_nx = nx.Graph()\n",
    "\n",
    "    # nodes (add node ids)\n",
    "    node_name_dict = node_df.set_index(\"id\").to_dict()[\"name\"]\n",
    "    node_type_dict = node_df.set_index(\"id\").to_dict()[\"kind\"]\n",
    "    for node in node_df[\"id\"].tolist():\n",
    "        node_type = node_type_dict[node]\n",
    "        g_nx.add_node(node,\n",
    "                      label=node_name_dict[node],\n",
    "                      entity=node_type,\n",
    "                      color=node_colors[node_type])\n",
    "\n",
    "    # edges\n",
    "    edge_type_df[\"edge_type\"] = edge_type_df[\"metaedge\"].str.split(\n",
    "        \" - \", expand=True)[1].fillna(\"regulates\")\n",
    "\n",
    "    link_dict = edge_type_df.set_index(\"abbreviation\").to_dict()[\"edge_type\"]\n",
    "    for abrv in edge_type_df[\"abbreviation\"].unique():\n",
    "        links = data[data[\"metaedge\"] == abrv][[\n",
    "            \"source\", \"target\"]].itertuples(index=False, name=None)\n",
    "        link_type = link_dict[abrv]\n",
    "        g_nx.add_edges_from(links,\n",
    "                            label=link_type,\n",
    "                            color=edge_colors[link_type],\n",
    "                            dashes=False)\n",
    "\n",
    "    return g_nx\n",
    "\n",
    "def networkx2pyvis(G, **options):\n",
    "    \"\"\"From networkx to pyvis graph\n",
    "\n",
    "    Args:\n",
    "        G (nx graph): networkx graph\n",
    "        node_df (pd.DataFrame): df load from this file hetionet-v1.0-nodes.tsv\n",
    "\n",
    "    Returns:\n",
    "        pyvis graph: corresponding pyvis graph\n",
    "    \"\"\"\n",
    "  \n",
    "    from pyvis.network import Network\n",
    "    \n",
    "    H = Network(directed=True, **options)\n",
    "\n",
    "    # Add nodes\n",
    "    for node, data in G.nodes(data=True):\n",
    "        H.add_node(node,\n",
    "                   font={\"color\": data['color']},\n",
    "                   **data)\n",
    "\n",
    "    # Add edges\n",
    "    for node1, node2, data in G.edges(data=True):\n",
    "        H.add_edge(node1, node2, **data)\n",
    "\n",
    "    return H"
   ]
  },
  {
   "cell_type": "code",
   "execution_count": 80,
   "metadata": {},
   "outputs": [],
   "source": [
    "import networkx as nx\n",
    "\n",
    "G_test = nx.Graph()\n",
    "G_test.add_nodes_from([1,2],\n",
    "                      label=[\"a\", \"b\"],\n",
    "                      color=\"#DFFF00\")"
   ]
  },
  {
   "cell_type": "code",
   "execution_count": 88,
   "metadata": {},
   "outputs": [],
   "source": [
    "G = tsv2networkx(edge_df, node_df, edge_type_df)"
   ]
  },
  {
   "cell_type": "code",
   "execution_count": 89,
   "metadata": {},
   "outputs": [
    {
     "data": {
      "text/plain": [
       "40"
      ]
     },
     "execution_count": 89,
     "metadata": {},
     "output_type": "execute_result"
    }
   ],
   "source": [
    "node_name = \"Compound::DB01231\"\n",
    "sel_df = edge_df[(edge_df[\"source\"]==node_name) |\n",
    "                      (edge_df[\"target\"]==node_name)]\n",
    "selected_nodes = list(set(sel_df[\"source\"].tolist() + sel_df[\"target\"].tolist()))\n",
    "len(selected_nodes)"
   ]
  },
  {
   "cell_type": "code",
   "execution_count": 92,
   "metadata": {},
   "outputs": [
    {
     "name": "stdout",
     "output_type": "stream",
     "text": [
      "test.html\n"
     ]
    },
    {
     "data": {
      "text/html": [
       "\n",
       "        <iframe\n",
       "            width=\"100%\"\n",
       "            height=\"750px\"\n",
       "            src=\"test.html\"\n",
       "            frameborder=\"0\"\n",
       "            allowfullscreen\n",
       "            \n",
       "        ></iframe>\n",
       "        "
      ],
      "text/plain": [
       "<IPython.lib.display.IFrame at 0x7ff78dca3580>"
      ]
     },
     "execution_count": 92,
     "metadata": {},
     "output_type": "execute_result"
    }
   ],
   "source": [
    "pyvis_opts = \"\"\"\n",
    "var options = {\n",
    "  \"nodes\": {\n",
    "    \"font\": {\n",
    "      \"face\": \"verdana\"\n",
    "    },\n",
    "    \"size\": 15\n",
    "  },\n",
    "  \"edges\": {\n",
    "    \"color\": {\n",
    "      \"inherit\": true\n",
    "    },\n",
    "    \"font\": {\n",
    "      \"size\": 10,\n",
    "      \"face\": \"verdana\"\n",
    "    },\n",
    "    \"smooth\": false,\n",
    "    \"width\": 2\n",
    "  },\n",
    "  \"physics\": {\n",
    "    \"barnesHut\": {\n",
    "      \"gravitationalConstant\": -2000,\n",
    "      \"centralGravity\": 0,\n",
    "      \"springLength\": 200\n",
    "    },\n",
    "    \"minVelocity\": 0.25\n",
    "  }\n",
    "}\n",
    "\"\"\"\n",
    "\n",
    "subgraph = G.subgraph(selected_nodes)\n",
    "options = {\n",
    "                \"notebook\": True,\n",
    "                \"height\": \"750px\",\n",
    "                \"width\": \"100%\",\n",
    "                \"cdn_resources\": \"in_line\"\n",
    "            }\n",
    "H = networkx2pyvis(subgraph, **options)\n",
    "H.set_options(pyvis_opts)\n",
    "H.show(\"test.html\")"
   ]
  },
  {
   "cell_type": "code",
   "execution_count": 8,
   "metadata": {},
   "outputs": [
    {
     "data": {
      "text/html": [
       "<div>\n",
       "<style scoped>\n",
       "    .dataframe tbody tr th:only-of-type {\n",
       "        vertical-align: middle;\n",
       "    }\n",
       "\n",
       "    .dataframe tbody tr th {\n",
       "        vertical-align: top;\n",
       "    }\n",
       "\n",
       "    .dataframe thead th {\n",
       "        text-align: right;\n",
       "    }\n",
       "</style>\n",
       "<table border=\"1\" class=\"dataframe\">\n",
       "  <thead>\n",
       "    <tr style=\"text-align: right;\">\n",
       "      <th></th>\n",
       "      <th>source</th>\n",
       "      <th>metaedge</th>\n",
       "      <th>target</th>\n",
       "    </tr>\n",
       "  </thead>\n",
       "  <tbody>\n",
       "    <tr>\n",
       "      <th>0</th>\n",
       "      <td>Gene::9021</td>\n",
       "      <td>GpBP</td>\n",
       "      <td>Biological Process::GO:0071357</td>\n",
       "    </tr>\n",
       "    <tr>\n",
       "      <th>1</th>\n",
       "      <td>Gene::51676</td>\n",
       "      <td>GpBP</td>\n",
       "      <td>Biological Process::GO:0098780</td>\n",
       "    </tr>\n",
       "    <tr>\n",
       "      <th>2</th>\n",
       "      <td>Gene::19</td>\n",
       "      <td>GpBP</td>\n",
       "      <td>Biological Process::GO:0055088</td>\n",
       "    </tr>\n",
       "    <tr>\n",
       "      <th>3</th>\n",
       "      <td>Gene::3176</td>\n",
       "      <td>GpBP</td>\n",
       "      <td>Biological Process::GO:0010243</td>\n",
       "    </tr>\n",
       "    <tr>\n",
       "      <th>4</th>\n",
       "      <td>Gene::3039</td>\n",
       "      <td>GpBP</td>\n",
       "      <td>Biological Process::GO:0006898</td>\n",
       "    </tr>\n",
       "  </tbody>\n",
       "</table>\n",
       "</div>"
      ],
      "text/plain": [
       "        source metaedge                          target\n",
       "0   Gene::9021     GpBP  Biological Process::GO:0071357\n",
       "1  Gene::51676     GpBP  Biological Process::GO:0098780\n",
       "2     Gene::19     GpBP  Biological Process::GO:0055088\n",
       "3   Gene::3176     GpBP  Biological Process::GO:0010243\n",
       "4   Gene::3039     GpBP  Biological Process::GO:0006898"
      ]
     },
     "execution_count": 8,
     "metadata": {},
     "output_type": "execute_result"
    }
   ],
   "source": [
    "edge_df.head()"
   ]
  },
  {
   "cell_type": "code",
   "execution_count": null,
   "metadata": {},
   "outputs": [],
   "source": []
  }
 ],
 "metadata": {
  "kernelspec": {
   "display_name": "grapharm",
   "language": "python",
   "name": "python3"
  },
  "language_info": {
   "codemirror_mode": {
    "name": "ipython",
    "version": 3
   },
   "file_extension": ".py",
   "mimetype": "text/x-python",
   "name": "python",
   "nbconvert_exporter": "python",
   "pygments_lexer": "ipython3",
   "version": "3.9.19"
  }
 },
 "nbformat": 4,
 "nbformat_minor": 2
}
