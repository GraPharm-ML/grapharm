{
 "cells": [
  {
   "cell_type": "markdown",
   "metadata": {},
   "source": [
    "# Exploratory Data Analysis\n",
    "\n",
    "This notebook is to:\n",
    "* Download [DRKG](https://github.com/gnn4dr/DRKG)\n",
    "* Exploratory data analysis\n",
    "* Visualization subgraphs\n"
   ]
  },
  {
   "cell_type": "markdown",
   "metadata": {},
   "source": [
    "## Download `DRKG`"
   ]
  },
  {
   "cell_type": "code",
   "execution_count": 1,
   "metadata": {},
   "outputs": [],
   "source": [
    "from grapharm._utils import download_and_extract\n",
    "import os\n",
    "\n",
    "os.makedirs(\"../outputs\", exist_ok=True)\n",
    "\n"
   ]
  },
  {
   "cell_type": "code",
   "execution_count": 2,
   "metadata": {},
   "outputs": [
    {
     "name": "stdout",
     "output_type": "stream",
     "text": [
      "\u001b[01;34m../data\u001b[00m\n",
      "├── \u001b[01;34mdrkg\u001b[00m\n",
      "│   ├── drkg.tsv\n",
      "│   ├── \u001b[01;34membed\u001b[00m\n",
      "│   │   ├── DRKG_TransE_l2_entity.npy\n",
      "│   │   ├── DRKG_TransE_l2_relation.npy\n",
      "│   │   ├── entities.tsv\n",
      "│   │   ├── mol_contextpred.npy\n",
      "│   │   ├── mol_edgepred.npy\n",
      "│   │   ├── mol_infomax.npy\n",
      "│   │   ├── mol_masking.npy\n",
      "│   │   ├── Readme.md\n",
      "│   │   └── relations.tsv\n",
      "│   ├── entity2src.tsv\n",
      "│   ├── \u001b[01;34mmap\u001b[00m\n",
      "│   │   └── \u001b[01;34mcompounds\u001b[00m\n",
      "│   │       ├── BindingDB.tsv\n",
      "│   │       ├── Brenda.tsv\n",
      "│   │       ├── ChEBI.tsv\n",
      "│   │       ├── DrugBank.tsv\n",
      "│   │       ├── DrugCentral.tsv\n",
      "│   │       ├── head\n",
      "│   │       ├── HMDB.tsv\n",
      "│   │       ├── MolPort.tsv\n",
      "│   │       └── ZINC.tsv\n",
      "│   └── relation_glossary.tsv\n",
      "└── \u001b[01;34mhetionet\u001b[00m\n",
      "    ├── hetionet_test.txt\n",
      "    ├── hetionet_train.txt\n",
      "    ├── hetionet-v1.0-edges.sif\n",
      "    ├── hetionet-v1.0-nodes.tsv\n",
      "    └── hetionet_valid.txt\n",
      "\n",
      "5 directories, 26 files\n"
     ]
    }
   ],
   "source": [
    "# What are in the data\n",
    "!tree ../data"
   ]
  },
  {
   "cell_type": "markdown",
   "metadata": {},
   "source": [
    "* `drkg.tsv`: original `drkg` in the format of $(h, r, t)$ triplets ($h$ and $t$: entity, $r$: relation)\n",
    "* `entity2src.tsv`: mapping entities in `drkg` to their original sources\n",
    "* `relation_glossary.tsv`: glossary of relation in `drkg`, and other associated information with sources (if available).\n",
    "* `embed/entities.csv`: names and corresponding ids of entities\n",
    "* `embed/relations.tsv`: names and corresponding ids of relations"
   ]
  },
  {
   "cell_type": "markdown",
   "metadata": {},
   "source": [
    "## Data observation\n",
    "\n",
    "![drkg-structure](https://raw.githubusercontent.com/gnn4dr/DRKG/master/connectivity.png)\n",
    "> Image credit: https://github.com/gnn4dr/DRKG\n",
    "\n",
    "### Check the number in downloaded data with the reported statistics:"
   ]
  },
  {
   "cell_type": "code",
   "execution_count": 3,
   "metadata": {},
   "outputs": [],
   "source": [
    "import warnings\n",
    "warnings.filterwarnings(\"ignore\")\n",
    "\n",
    "import pandas as pd\n",
    "import numpy as np\n",
    "import matplotlib.pyplot as plt\n",
    "import networkx as nx \n",
    "import pyvis\n",
    "\n",
    "drkg = pd.read_csv(f\"{datadir}/drkg.tsv\", sep=\"\\t\", header=None, names=[\"h\", \"r\", \"t\"])\n",
    "re_gloss = pd.read_csv(f\"{datadir}/relation_glossary.tsv\", sep=\"\\t\")\n",
    "entities = pd.read_csv(f\"{datadir}/embed/entities.tsv\", sep=\"\\t\", header=None, names=[\"entity_name\", \"entity_id\"])\n",
    "relations = pd.read_csv(f\"{datadir}/embed/relations.tsv\", sep=\"\\t\", header=None, names=[\"relation_name\", \"relation_id\"])"
   ]
  },
  {
   "cell_type": "code",
   "execution_count": 4,
   "metadata": {},
   "outputs": [
    {
     "name": "stdout",
     "output_type": "stream",
     "text": [
      "Number of relations in DRKG: 5874261\n",
      "Number of unique entities: 97238\n",
      "Number of relation types: 107\n",
      "Number of entity types: 13\n"
     ]
    },
    {
     "data": {
      "text/html": [
       "<div>\n",
       "<style scoped>\n",
       "    .dataframe tbody tr th:only-of-type {\n",
       "        vertical-align: middle;\n",
       "    }\n",
       "\n",
       "    .dataframe tbody tr th {\n",
       "        vertical-align: top;\n",
       "    }\n",
       "\n",
       "    .dataframe thead th {\n",
       "        text-align: right;\n",
       "    }\n",
       "</style>\n",
       "<table border=\"1\" class=\"dataframe\">\n",
       "  <thead>\n",
       "    <tr style=\"text-align: right;\">\n",
       "      <th></th>\n",
       "      <th>entity_type</th>\n",
       "      <th>count</th>\n",
       "    </tr>\n",
       "  </thead>\n",
       "  <tbody>\n",
       "    <tr>\n",
       "      <th>0</th>\n",
       "      <td>Anatomy</td>\n",
       "      <td>730097</td>\n",
       "    </tr>\n",
       "    <tr>\n",
       "      <th>1</th>\n",
       "      <td>Atc</td>\n",
       "      <td>15750</td>\n",
       "    </tr>\n",
       "    <tr>\n",
       "      <th>2</th>\n",
       "      <td>Biological Process</td>\n",
       "      <td>559504</td>\n",
       "    </tr>\n",
       "    <tr>\n",
       "      <th>3</th>\n",
       "      <td>Cellular Component</td>\n",
       "      <td>73566</td>\n",
       "    </tr>\n",
       "    <tr>\n",
       "      <th>4</th>\n",
       "      <td>Compound</td>\n",
       "      <td>3221926</td>\n",
       "    </tr>\n",
       "    <tr>\n",
       "      <th>5</th>\n",
       "      <td>Disease</td>\n",
       "      <td>215777</td>\n",
       "    </tr>\n",
       "    <tr>\n",
       "      <th>6</th>\n",
       "      <td>Gene</td>\n",
       "      <td>6592315</td>\n",
       "    </tr>\n",
       "    <tr>\n",
       "      <th>7</th>\n",
       "      <td>Molecular Function</td>\n",
       "      <td>97222</td>\n",
       "    </tr>\n",
       "    <tr>\n",
       "      <th>8</th>\n",
       "      <td>Pathway</td>\n",
       "      <td>84372</td>\n",
       "    </tr>\n",
       "    <tr>\n",
       "      <th>9</th>\n",
       "      <td>Pharmacologic Class</td>\n",
       "      <td>1029</td>\n",
       "    </tr>\n",
       "    <tr>\n",
       "      <th>10</th>\n",
       "      <td>Side Effect</td>\n",
       "      <td>138944</td>\n",
       "    </tr>\n",
       "    <tr>\n",
       "      <th>11</th>\n",
       "      <td>Symptom</td>\n",
       "      <td>3357</td>\n",
       "    </tr>\n",
       "    <tr>\n",
       "      <th>12</th>\n",
       "      <td>Tax</td>\n",
       "      <td>14663</td>\n",
       "    </tr>\n",
       "  </tbody>\n",
       "</table>\n",
       "</div>"
      ],
      "text/plain": [
       "            entity_type    count\n",
       "0               Anatomy   730097\n",
       "1                   Atc    15750\n",
       "2    Biological Process   559504\n",
       "3    Cellular Component    73566\n",
       "4              Compound  3221926\n",
       "5               Disease   215777\n",
       "6                  Gene  6592315\n",
       "7    Molecular Function    97222\n",
       "8               Pathway    84372\n",
       "9   Pharmacologic Class     1029\n",
       "10          Side Effect   138944\n",
       "11              Symptom     3357\n",
       "12                  Tax    14663"
      ]
     },
     "execution_count": 4,
     "metadata": {},
     "output_type": "execute_result"
    }
   ],
   "source": [
    "print(f\"Number of relations in DRKG: {len(drkg)}\")\n",
    "print(\"Number of unique entities: {}\".format(len(set(drkg.h.tolist() + drkg.t.tolist()))))\n",
    "print(\"Number of relation types: {}\".format(len(drkg.r.unique())))\n",
    "entity_stats = pd.concat([\n",
    "    drkg[\"h\"].value_counts().reset_index().rename(columns={\"h\": \"entity\"}),\n",
    "    drkg[\"t\"].value_counts().reset_index().rename(columns={\"t\": \"entity\"})\n",
    "    ], ignore_index=True).groupby(\"entity\").agg(\"sum\").reset_index()\n",
    "\n",
    "entity_stats[\"entity_type\"] = entity_stats[\"entity\"].str.split(\"::\", expand=True)[0]\n",
    "entity_stats = entity_stats.groupby(\"entity_type\").agg(\"sum\").reset_index()[\n",
    "    [\"entity_type\", \"count\"]\n",
    "    ]\n",
    "print(\"Number of entity types: {}\".format(len(entity_stats)))\n",
    "entity_stats"
   ]
  },
  {
   "cell_type": "markdown",
   "metadata": {},
   "source": [
    "Some terms:\n",
    "* `ATC`: Anatomical Therapeutic Chemical ([ATC](https://www.who.int/tools/atc-ddd-toolkit/atc-classification#:~:text=In%20the%20Anatomical%20Therapeutic%20Chemical,therapeutic%2C%20pharmacological%20and%20chemical%20properties.))\n",
    "* `Tax`: Taxonomy (a scheme of classification, especially a hierarchical classification)"
   ]
  },
  {
   "cell_type": "code",
   "execution_count": 5,
   "metadata": {},
   "outputs": [
    {
     "name": "stdout",
     "output_type": "stream",
     "text": [
      "Number of embeded entities: 97238\n"
     ]
    },
    {
     "data": {
      "text/html": [
       "<div>\n",
       "<style scoped>\n",
       "    .dataframe tbody tr th:only-of-type {\n",
       "        vertical-align: middle;\n",
       "    }\n",
       "\n",
       "    .dataframe tbody tr th {\n",
       "        vertical-align: top;\n",
       "    }\n",
       "\n",
       "    .dataframe thead th {\n",
       "        text-align: right;\n",
       "    }\n",
       "</style>\n",
       "<table border=\"1\" class=\"dataframe\">\n",
       "  <thead>\n",
       "    <tr style=\"text-align: right;\">\n",
       "      <th></th>\n",
       "      <th>entity_name</th>\n",
       "      <th>entity_id</th>\n",
       "    </tr>\n",
       "  </thead>\n",
       "  <tbody>\n",
       "    <tr>\n",
       "      <th>0</th>\n",
       "      <td>Gene::2157</td>\n",
       "      <td>0</td>\n",
       "    </tr>\n",
       "    <tr>\n",
       "      <th>1</th>\n",
       "      <td>Gene::5264</td>\n",
       "      <td>1</td>\n",
       "    </tr>\n",
       "    <tr>\n",
       "      <th>2</th>\n",
       "      <td>Gene::2158</td>\n",
       "      <td>2</td>\n",
       "    </tr>\n",
       "    <tr>\n",
       "      <th>3</th>\n",
       "      <td>Gene::3309</td>\n",
       "      <td>3</td>\n",
       "    </tr>\n",
       "    <tr>\n",
       "      <th>4</th>\n",
       "      <td>Gene::28912</td>\n",
       "      <td>4</td>\n",
       "    </tr>\n",
       "  </tbody>\n",
       "</table>\n",
       "</div>"
      ],
      "text/plain": [
       "   entity_name  entity_id\n",
       "0   Gene::2157          0\n",
       "1   Gene::5264          1\n",
       "2   Gene::2158          2\n",
       "3   Gene::3309          3\n",
       "4  Gene::28912          4"
      ]
     },
     "execution_count": 5,
     "metadata": {},
     "output_type": "execute_result"
    }
   ],
   "source": [
    "print(f\"Number of embeded entities: {len(entities)}\")\n",
    "entities.head()"
   ]
  },
  {
   "cell_type": "code",
   "execution_count": 6,
   "metadata": {},
   "outputs": [
    {
     "name": "stdout",
     "output_type": "stream",
     "text": [
      "Number of embeded relation types: 107\n"
     ]
    },
    {
     "data": {
      "text/html": [
       "<div>\n",
       "<style scoped>\n",
       "    .dataframe tbody tr th:only-of-type {\n",
       "        vertical-align: middle;\n",
       "    }\n",
       "\n",
       "    .dataframe tbody tr th {\n",
       "        vertical-align: top;\n",
       "    }\n",
       "\n",
       "    .dataframe thead th {\n",
       "        text-align: right;\n",
       "    }\n",
       "</style>\n",
       "<table border=\"1\" class=\"dataframe\">\n",
       "  <thead>\n",
       "    <tr style=\"text-align: right;\">\n",
       "      <th></th>\n",
       "      <th>relation_name</th>\n",
       "      <th>relation_id</th>\n",
       "    </tr>\n",
       "  </thead>\n",
       "  <tbody>\n",
       "    <tr>\n",
       "      <th>0</th>\n",
       "      <td>bioarx::HumGenHumGen:Gene:Gene</td>\n",
       "      <td>0</td>\n",
       "    </tr>\n",
       "    <tr>\n",
       "      <th>1</th>\n",
       "      <td>bioarx::VirGenHumGen:Gene:Gene</td>\n",
       "      <td>1</td>\n",
       "    </tr>\n",
       "    <tr>\n",
       "      <th>2</th>\n",
       "      <td>bioarx::DrugVirGen:Compound:Gene</td>\n",
       "      <td>2</td>\n",
       "    </tr>\n",
       "    <tr>\n",
       "      <th>3</th>\n",
       "      <td>bioarx::DrugHumGen:Compound:Gene</td>\n",
       "      <td>3</td>\n",
       "    </tr>\n",
       "    <tr>\n",
       "      <th>4</th>\n",
       "      <td>bioarx::Covid2_acc_host_gene::Disease:Gene</td>\n",
       "      <td>4</td>\n",
       "    </tr>\n",
       "  </tbody>\n",
       "</table>\n",
       "</div>"
      ],
      "text/plain": [
       "                                relation_name  relation_id\n",
       "0              bioarx::HumGenHumGen:Gene:Gene            0\n",
       "1              bioarx::VirGenHumGen:Gene:Gene            1\n",
       "2            bioarx::DrugVirGen:Compound:Gene            2\n",
       "3            bioarx::DrugHumGen:Compound:Gene            3\n",
       "4  bioarx::Covid2_acc_host_gene::Disease:Gene            4"
      ]
     },
     "execution_count": 6,
     "metadata": {},
     "output_type": "execute_result"
    }
   ],
   "source": [
    "print(f\"Number of embeded relation types: {len(relations)}\")\n",
    "relations.head()"
   ]
  },
  {
   "cell_type": "markdown",
   "metadata": {},
   "source": [
    "### Link types"
   ]
  },
  {
   "cell_type": "code",
   "execution_count": 7,
   "metadata": {},
   "outputs": [
    {
     "name": "stdout",
     "output_type": "stream",
     "text": [
      "There are 17 connected entity-types\n",
      "--------------------------------------------------\n",
      "Compound:Gene\n",
      "Compound:Compound\n",
      "ATC:Compound\n",
      "Compound:Disease\n",
      "Gene:Gene\n",
      "Disease:Gene\n",
      "Gene:Tax\n",
      "Anatomy:Gene\n",
      "Compound:Side Effect\n",
      "Anatomy:Disease\n",
      "Disease:Symptom\n",
      "Diisease:Disease\n",
      "Biological Process:Gene\n",
      "Cellular Component:Gene\n",
      "Gene:Molecular Function\n",
      "Gene:Pathway\n",
      "Compound:Pharmacologic Class\n"
     ]
    }
   ],
   "source": [
    "print(\"There are {} connected entity-types\".format(len(re_gloss[\"Connected entity-types\"].unique())))\n",
    "print(\"-\"*50)\n",
    "for x in re_gloss[\"Connected entity-types\"].unique():\n",
    "    print(x)"
   ]
  },
  {
   "cell_type": "code",
   "execution_count": 8,
   "metadata": {},
   "outputs": [
    {
     "name": "stdout",
     "output_type": "stream",
     "text": [
      "There are 80 interaction types:\n",
      "--------------------------------------------------\n",
      "activation\n",
      "agonism\n",
      "allosteric modulation\n",
      "antagonism\n",
      "antibody\n",
      "binding\n",
      "blocking\n",
      "channel blocking\n",
      "inhibition\n",
      "modulation\n",
      "other\n",
      "partial agonism\n",
      "positive allosteric modulation\n",
      "carrier\n",
      "drug-drug interaction\n",
      "enzyme\n",
      "target\n",
      "Compound belongs to Anatomical Therapeutic Chemical (ATC) code.\n",
      "Compound treats the disease\n",
      "agonism, activation\n",
      "antagonism, blocking\n",
      "binding, ligand (esp. receptors)\n",
      "inhibits cell growth (esp. cancers)\n",
      "drug targets\n",
      "increases expression/production\n",
      "decreases expression/production\n",
      "affects expression/production (neutral)\n",
      "promotes progression\n",
      "same protein or complex\n",
      "signaling pathway\n",
      "role in disease pathogenesis\n",
      "role in pathogenesis\n",
      "metabolism, pharmacokinetics\n",
      "improper regulation linked to disease\n",
      "biomarkers (diagnostic)\n",
      "biomarkers (of disease progression)\n",
      "inhibits\n",
      "transport, channels\n",
      "alleviates, reduces\n",
      "prevents, suppresses\n",
      "production by cell population\n",
      "regulation\n",
      "side effect/adverse event\n",
      "treatment/therapy (including investigatory)\n",
      "possible therapeutic effect\n",
      "causal mutations\n",
      "mutations affecting disease course\n",
      "activates, stimulates\n",
      "enhances response\n",
      "overexpression in disease\n",
      "polymorphisms alter risk\n",
      "enzyme activity\n",
      "gene belongs to taxonomy\n",
      "downregulatation\n",
      "expression\n",
      "upregulation\n",
      "causes\n",
      "downregulation\n",
      "palliation\n",
      "resemblence\n",
      "treatment\n",
      "association\n",
      "localization\n",
      "presents\n",
      "covariation\n",
      "interaction\n",
      "participation\n",
      "inclusion\n",
      "ADP ribosylation reaction\n",
      "cleavage reaction\n",
      "colocalization\n",
      "dephosphorylation reaction\n",
      "direct interation\n",
      "phosphorylation reaction\n",
      "physical association\n",
      "protein cleavage\n",
      "ubiquitination reaction\n",
      "catalysis\n",
      "post-translational modification\n",
      "reaction\n"
     ]
    }
   ],
   "source": [
    "print(\"There are {} interaction types:\".format(len(re_gloss[\"Interaction-type\"].unique())))\n",
    "print(\"-\"*50)\n",
    "for x in re_gloss[\"Interaction-type\"].unique():\n",
    "    print(x)"
   ]
  },
  {
   "cell_type": "markdown",
   "metadata": {},
   "source": [
    "### Load `drkg` to Networkx"
   ]
  },
  {
   "cell_type": "code",
   "execution_count": 9,
   "metadata": {},
   "outputs": [
    {
     "name": "stdout",
     "output_type": "stream",
     "text": [
      "Number of nodes: 97238\n",
      "Number of node types: 97238\n",
      "Number of edges: 4400766\n",
      "Number of edge types: 107\n",
      "Average edges per node: 45.257677039840395\n",
      "Number of subgraphs: 303\n",
      "The largest subgraph has 96420 nodes (13 types) and 4400229 edges.\n",
      "The second largest subgraph has 28 nodes and 29 edges.\n",
      "Number of subgraphs with less than 10 nodes: 298\n",
      "Number of nodes to display: 74\n",
      "../outputs/subgraph.html\n"
     ]
    },
    {
     "data": {
      "text/html": [
       "\n",
       "        <iframe\n",
       "            width=\"1000\"\n",
       "            height=\"750\"\n",
       "            src=\"../outputs/subgraph.html\"\n",
       "            frameborder=\"0\"\n",
       "            allowfullscreen\n",
       "            \n",
       "        ></iframe>\n",
       "        "
      ],
      "text/plain": [
       "<IPython.lib.display.IFrame at 0x7f9bd8b33af0>"
      ]
     },
     "metadata": {},
     "output_type": "display_data"
    }
   ],
   "source": [
    "from grapharm._utils import tsv2networkx, print_graph_stats\n",
    "from grapharm.viz import  draw_connected_components\n",
    "import networkx as nx\n",
    "\n",
    "G = tsv2networkx(drkg, re_gloss)\n",
    "print_graph_stats(G, drkg)\n",
    "connected_components = list((G.subgraph(c).copy() for c in nx.connected_components(G)))\n",
    "draw_connected_components(G, connected_components, \"../outputs\")"
   ]
  },
  {
   "cell_type": "markdown",
   "metadata": {},
   "source": [
    "## Visualize subgraphs"
   ]
  },
  {
   "cell_type": "code",
   "execution_count": 10,
   "metadata": {},
   "outputs": [
    {
     "name": "stdout",
     "output_type": "stream",
     "text": [
      "This step may take more than 1 minute to run! Be patient!\n",
      "There are 4500 entities with [15, 25] connections, belonging to 13 entity types\n",
      "--------------------------------------------------\n",
      "Entity type statistics:\n",
      "---\n",
      "entity_type\n",
      "Gene                   1287\n",
      "Biological Process     1028\n",
      "Compound                645\n",
      "Disease                 388\n",
      "Side Effect             320\n",
      "Pathway                 275\n",
      "Molecular Function      252\n",
      "Cellular Component      132\n",
      "Atc                      68\n",
      "Symptom                  48\n",
      "Anatomy                  45\n",
      "Pharmacologic Class       7\n",
      "Tax                       5\n",
      "Name: count, dtype: int64\n",
      "--------------------------------------------------\n",
      "For every entity type, choose 5 entities\n",
      "---\n"
     ]
    }
   ],
   "source": [
    "from grapharm.viz import  (select_entities_for_display,\n",
    "                           draw_subgraph_widget)\n",
    "\n",
    "print(\"This step may take more than 1 minute to run! Be patient!\")\n",
    "selected_entities = select_entities_for_display(drkg)"
   ]
  },
  {
   "cell_type": "code",
   "execution_count": 11,
   "metadata": {},
   "outputs": [
    {
     "data": {
      "text/html": [
       "<div>\n",
       "<style scoped>\n",
       "    .dataframe tbody tr th:only-of-type {\n",
       "        vertical-align: middle;\n",
       "    }\n",
       "\n",
       "    .dataframe tbody tr th {\n",
       "        vertical-align: top;\n",
       "    }\n",
       "\n",
       "    .dataframe thead th {\n",
       "        text-align: right;\n",
       "    }\n",
       "</style>\n",
       "<table border=\"1\" class=\"dataframe\">\n",
       "  <thead>\n",
       "    <tr style=\"text-align: right;\">\n",
       "      <th></th>\n",
       "      <th>h</th>\n",
       "      <th>r</th>\n",
       "      <th>t</th>\n",
       "    </tr>\n",
       "  </thead>\n",
       "  <tbody>\n",
       "    <tr>\n",
       "      <th>83823</th>\n",
       "      <td>Compound::DB01590</td>\n",
       "      <td>bioarx::DrugHumGen:Compound:Gene</td>\n",
       "      <td>Gene::2475</td>\n",
       "    </tr>\n",
       "    <tr>\n",
       "      <th>83824</th>\n",
       "      <td>Compound::DB01590</td>\n",
       "      <td>bioarx::DrugHumGen:Compound:Gene</td>\n",
       "      <td>Gene::1576</td>\n",
       "    </tr>\n",
       "    <tr>\n",
       "      <th>1087636</th>\n",
       "      <td>Compound::DB01590</td>\n",
       "      <td>DRUGBANK::x-atc::Compound:Atc</td>\n",
       "      <td>Atc::L01XE10</td>\n",
       "    </tr>\n",
       "    <tr>\n",
       "      <th>1087637</th>\n",
       "      <td>Compound::DB01590</td>\n",
       "      <td>DRUGBANK::ddi-interactor-in::Compound:Compound</td>\n",
       "      <td>Compound::DB06643</td>\n",
       "    </tr>\n",
       "    <tr>\n",
       "      <th>1087638</th>\n",
       "      <td>Compound::DB01590</td>\n",
       "      <td>DRUGBANK::ddi-interactor-in::Compound:Compound</td>\n",
       "      <td>Compound::DB01656</td>\n",
       "    </tr>\n",
       "    <tr>\n",
       "      <th>...</th>\n",
       "      <td>...</td>\n",
       "      <td>...</td>\n",
       "      <td>...</td>\n",
       "    </tr>\n",
       "    <tr>\n",
       "      <th>3593463</th>\n",
       "      <td>Compound::DB01590</td>\n",
       "      <td>Hetionet::CcSE::Compound:Side Effect</td>\n",
       "      <td>Side Effect::C0549463</td>\n",
       "    </tr>\n",
       "    <tr>\n",
       "      <th>3593640</th>\n",
       "      <td>Compound::DB01590</td>\n",
       "      <td>Hetionet::CcSE::Compound:Side Effect</td>\n",
       "      <td>Side Effect::C0020555</td>\n",
       "    </tr>\n",
       "    <tr>\n",
       "      <th>3594208</th>\n",
       "      <td>Compound::DB01590</td>\n",
       "      <td>Hetionet::CcSE::Compound:Side Effect</td>\n",
       "      <td>Side Effect::C0035455</td>\n",
       "    </tr>\n",
       "    <tr>\n",
       "      <th>3594461</th>\n",
       "      <td>Compound::DB01590</td>\n",
       "      <td>Hetionet::CcSE::Compound:Side Effect</td>\n",
       "      <td>Side Effect::C0017675</td>\n",
       "    </tr>\n",
       "    <tr>\n",
       "      <th>3594951</th>\n",
       "      <td>Compound::DB01590</td>\n",
       "      <td>Hetionet::CcSE::Compound:Side Effect</td>\n",
       "      <td>Side Effect::C0022660</td>\n",
       "    </tr>\n",
       "  </tbody>\n",
       "</table>\n",
       "<p>1671 rows × 3 columns</p>\n",
       "</div>"
      ],
      "text/plain": [
       "                         h                                               r  \\\n",
       "83823    Compound::DB01590                bioarx::DrugHumGen:Compound:Gene   \n",
       "83824    Compound::DB01590                bioarx::DrugHumGen:Compound:Gene   \n",
       "1087636  Compound::DB01590                   DRUGBANK::x-atc::Compound:Atc   \n",
       "1087637  Compound::DB01590  DRUGBANK::ddi-interactor-in::Compound:Compound   \n",
       "1087638  Compound::DB01590  DRUGBANK::ddi-interactor-in::Compound:Compound   \n",
       "...                    ...                                             ...   \n",
       "3593463  Compound::DB01590            Hetionet::CcSE::Compound:Side Effect   \n",
       "3593640  Compound::DB01590            Hetionet::CcSE::Compound:Side Effect   \n",
       "3594208  Compound::DB01590            Hetionet::CcSE::Compound:Side Effect   \n",
       "3594461  Compound::DB01590            Hetionet::CcSE::Compound:Side Effect   \n",
       "3594951  Compound::DB01590            Hetionet::CcSE::Compound:Side Effect   \n",
       "\n",
       "                             t  \n",
       "83823               Gene::2475  \n",
       "83824               Gene::1576  \n",
       "1087636           Atc::L01XE10  \n",
       "1087637      Compound::DB06643  \n",
       "1087638      Compound::DB01656  \n",
       "...                        ...  \n",
       "3593463  Side Effect::C0549463  \n",
       "3593640  Side Effect::C0020555  \n",
       "3594208  Side Effect::C0035455  \n",
       "3594461  Side Effect::C0017675  \n",
       "3594951  Side Effect::C0022660  \n",
       "\n",
       "[1671 rows x 3 columns]"
      ]
     },
     "execution_count": 11,
     "metadata": {},
     "output_type": "execute_result"
    }
   ],
   "source": [
    "drkg[drkg[\"h\"].str.contains(\"DB01590\")]"
   ]
  },
  {
   "cell_type": "code",
   "execution_count": 12,
   "metadata": {},
   "outputs": [
    {
     "data": {
      "application/vnd.jupyter.widget-view+json": {
       "model_id": "5bdcdab50f8048bf9e9a476414b2785e",
       "version_major": 2,
       "version_minor": 0
      },
      "text/plain": [
       "GridspecLayout(children=(Dropdown(description='Entity type', layout=Layout(grid_area='widget001', width='auto'…"
      ]
     },
     "metadata": {},
     "output_type": "display_data"
    },
    {
     "data": {
      "application/vnd.jupyter.widget-view+json": {
       "model_id": "41bd55815cfd4eedb7ebb2ee067176b7",
       "version_major": 2,
       "version_minor": 0
      },
      "text/plain": [
       "interactive(children=(Dropdown(description='Entity name: ', layout=Layout(width='auto'), options=('--Select',)…"
      ]
     },
     "metadata": {},
     "output_type": "display_data"
    }
   ],
   "source": [
    "draw_subgraph_widget(G, \n",
    "                     selected_entities=selected_entities, \n",
    "                     drkg=drkg,\n",
    "                     outdir=\"../outputs\",\n",
    "                     logo_path=\"../assets/GraPharm-icon.png\")"
   ]
  }
 ],
 "metadata": {
  "kernelspec": {
   "display_name": "grapharm",
   "language": "python",
   "name": "python3"
  },
  "language_info": {
   "codemirror_mode": {
    "name": "ipython",
    "version": 3
   },
   "file_extension": ".py",
   "mimetype": "text/x-python",
   "name": "python",
   "nbconvert_exporter": "python",
   "pygments_lexer": "ipython3",
   "version": "3.9.18"
  }
 },
 "nbformat": 4,
 "nbformat_minor": 4
}
