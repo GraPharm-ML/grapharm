{
 "cells": [
  {
   "cell_type": "markdown",
   "metadata": {},
   "source": [
    "# Exploratory Data analysis"
   ]
  },
  {
   "cell_type": "markdown",
   "metadata": {},
   "source": [
    "## Load data"
   ]
  },
  {
   "cell_type": "code",
   "execution_count": 2,
   "metadata": {},
   "outputs": [],
   "source": [
    "import os\n",
    "import pandas as pd\n",
    "import matplotlib.pyplot as plt\n",
    "\n",
    "datadir = \"../data\"\n",
    "\n",
    "node_df = pd.read_csv(f\"{datadir}/hetionet-v1.0-nodes.tsv\", sep=\"\\t\")\n",
    "edge_type_df = pd.read_csv(f\"{datadir}/metaedges.tsv\", sep=\"\\t\")\n",
    "edge_df = pd.read_csv(f\"{datadir}/hetionet-v1.0-edges.sif\", sep=\"\\t\")"
   ]
  },
  {
   "cell_type": "markdown",
   "metadata": {},
   "source": [
    "## Descriptive statistics"
   ]
  },
  {
   "cell_type": "markdown",
   "metadata": {},
   "source": [
    "### Nodes"
   ]
  },
  {
   "cell_type": "code",
   "execution_count": 3,
   "metadata": {},
   "outputs": [
    {
     "name": "stdout",
     "output_type": "stream",
     "text": [
      "Number of nodes: 47031\n",
      "Number of node types: 11\n",
      "----------------------------------------\n",
      "\tAnatomy\n",
      "\tBiological Process\n",
      "\tCellular Component\n",
      "\tCompound\n",
      "\tDisease\n",
      "\tGene\n",
      "\tMolecular Function\n",
      "\tPathway\n",
      "\tPharmacologic Class\n",
      "\tSide Effect\n",
      "\tSymptom\n",
      "----------------------------------------\n"
     ]
    }
   ],
   "source": [
    "print(f\"Number of nodes: {len(node_df)}\")\n",
    "print(\"Number of node types: {}\".format(len(node_df[\"kind\"].unique())))\n",
    "print(\"-\"*40)\n",
    "for node_type in node_df[\"kind\"].unique():\n",
    "    print(f\"\\t{node_type}\")\n",
    "print(\"-\"*40)"
   ]
  },
  {
   "cell_type": "code",
   "execution_count": 15,
   "metadata": {},
   "outputs": [],
   "source": [
    "%matplotlib inline\n",
    "df = edge_df.copy()\n",
    "df[\"source_kind\"] = df[\"source\"].str.split(\"::\", expand=True)[0]\n",
    "df[\"target_kind\"] = df[\"target\"].str.split(\"::\", expand=True)[0]\n",
    "source_types = df[\"source_kind\"]\n",
    "target_types = df[\"target_kind\"]"
   ]
  },
  {
   "cell_type": "markdown",
   "metadata": {},
   "source": [
    "### Edges"
   ]
  },
  {
   "cell_type": "code",
   "execution_count": 3,
   "metadata": {},
   "outputs": [
    {
     "name": "stdout",
     "output_type": "stream",
     "text": [
      "Number of edges: 2250197\n",
      "Number of edge types: 24\n",
      "Number of grouped edge types: 16\n",
      "----------------------------------------\n",
      "\tdownregulates\n",
      "\texpresses\n",
      "\tupregulates\n",
      "\tbinds\n",
      "\tcauses\n",
      "\tpalliates\n",
      "\tresembles\n",
      "\ttreats\n",
      "\tassociates\n",
      "\tlocalizes\n",
      "\tpresents\n",
      "\tcovaries\n",
      "\tinteracts\n",
      "\tparticipates\n",
      "\tregulates\n",
      "\tincludes\n"
     ]
    }
   ],
   "source": [
    "edge_type_df[\"edge_type\"] = edge_type_df[\"metaedge\"].str.split(\" - \", expand=True)[1].fillna(\"regulates\")\n",
    "print(\"Number of edges: {}\".format(len(edge_df)))\n",
    "print(\"Number of edge types: {}\".format(len(edge_type_df)))\n",
    "print(\"Number of grouped edge types: {}\".format(len(edge_type_df.edge_type.unique())))\n",
    "print(\"-\"*40)\n",
    "for et in edge_type_df.edge_type.unique():\n",
    "    print(f\"\\t{et}\")"
   ]
  },
  {
   "cell_type": "markdown",
   "metadata": {},
   "source": [
    "## Connected components in Hetionet"
   ]
  },
  {
   "cell_type": "code",
   "execution_count": 10,
   "metadata": {},
   "outputs": [
    {
     "name": "stdout",
     "output_type": "stream",
     "text": [
      "Build graph\n",
      "Done\n",
      "====================\n",
      "Find connected component:\n",
      "  Warning: this step may take around 30s\n",
      "* Number of subgraphs: 1874\n",
      "* The largest subgraph has 45158 nodes (11 types) and 2107709 edges.\n",
      "* The second largest subgraph has 1 nodes and 0 edges.\n",
      "Number of subgraphs with less than 10 nodes: 1873\n"
     ]
    }
   ],
   "source": [
    "from grapharm._utils import tsv2networkx\n",
    "from grapharm.viz import pyvis_opts, networkx2pyvis\n",
    "import networkx as nx\n",
    "\n",
    "# Build graph\n",
    "print(\"Build graph\")\n",
    "G = tsv2networkx(edge_df, node_df, edge_type_df)\n",
    "print(\"Done\")\n",
    "print(\"=\"*20)\n",
    "\n",
    "print(\"Find connected component:\")\n",
    "print(\"  Warning: this step may take around 30s\")\n",
    "connected_components = list((G.subgraph(c).copy()\n",
    "                             for c in nx.connected_components(G)))\n",
    "print(\"* Number of subgraphs: {}\".format(len(connected_components)))\n",
    "\n",
    "subgraph_num_nodes = {}\n",
    "for i, subgraph in enumerate(connected_components):\n",
    "    subgraph_num_nodes[i] = subgraph.number_of_nodes()\n",
    "\n",
    "id = max(subgraph_num_nodes, key=subgraph_num_nodes.get)\n",
    "subgraph = connected_components[id]\n",
    "nodes = list(subgraph.nodes)\n",
    "entity_types = set([n.split(\"::\")[0] for n in nodes])\n",
    "print(\"* The largest subgraph has {} nodes ({} types) and {} edges.\".format(\n",
    "    subgraph.number_of_nodes(),\n",
    "    len(entity_types),\n",
    "    subgraph.number_of_edges()\n",
    "))\n",
    "id = sorted(((v, k) for k, v in subgraph_num_nodes.items()))[-2][1]\n",
    "subgraph = connected_components[id]\n",
    "print(\"* The second largest subgraph has {} nodes and {} edges.\".format(\n",
    "    subgraph.number_of_nodes(),\n",
    "    subgraph.number_of_edges()\n",
    "))\n",
    "print(\"Number of subgraphs with less than 10 nodes: {}\".format(\n",
    "    sum(value < 10 for value in subgraph_num_nodes.values())\n",
    "))"
   ]
  }
 ],
 "metadata": {
  "kernelspec": {
   "display_name": "grapharm",
   "language": "python",
   "name": "python3"
  },
  "language_info": {
   "codemirror_mode": {
    "name": "ipython",
    "version": 3
   },
   "file_extension": ".py",
   "mimetype": "text/x-python",
   "name": "python",
   "nbconvert_exporter": "python",
   "pygments_lexer": "ipython3",
   "version": "3.10.13"
  }
 },
 "nbformat": 4,
 "nbformat_minor": 2
}
